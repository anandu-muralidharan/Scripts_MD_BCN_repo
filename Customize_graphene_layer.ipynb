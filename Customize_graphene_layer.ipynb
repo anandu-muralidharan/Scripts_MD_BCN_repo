{
 "cells": [
  {
   "cell_type": "code",
   "execution_count": 1,
   "id": "4d90f11e-9835-43d3-b4d5-89163b76350a",
   "metadata": {},
   "outputs": [
    {
     "data": {
      "application/vnd.jupyter.widget-view+json": {
       "model_id": "fb50398a80b9404dbb875c5090edc93f",
       "version_major": 2,
       "version_minor": 0
      },
      "text/plain": [
       "FileUpload(value=(), accept='.vasp,.POSCAR', description='Upload')"
      ]
     },
     "metadata": {},
     "output_type": "display_data"
    }
   ],
   "source": [
    "import ipywidgets as widgets\n",
    "from IPython.display import display\n",
    "from pymatgen.io.vasp import Poscar\n",
    "from pymatgen.io.ase import AseAtomsAdaptor\n",
    "import io\n",
    "\n",
    "upload = widgets.FileUpload(accept='.vasp,.POSCAR', multiple=False)\n",
    "display(upload)\n",
    "\n"
   ]
  },
  {
   "cell_type": "code",
   "execution_count": 3,
   "id": "a0539980-e47a-48df-88e1-76df97742360",
   "metadata": {},
   "outputs": [
    {
     "name": "stdout",
     "output_type": "stream",
     "text": [
      "✅ Structure loaded with 50 atoms.\n"
     ]
    }
   ],
   "source": [
    "from pymatgen.io.vasp import Poscar\n",
    "\n",
    "# Extract content from upload\n",
    "uploaded_file = upload.value[0]\n",
    "content = uploaded_file['content'].tobytes().decode('utf-8')\n",
    "\n",
    "# Load structure with pymatgen\n",
    "structure = Poscar.from_str(content).structure\n",
    "print(f\"✅ Structure loaded with {len(structure)} atoms.\")\n"
   ]
  },
  {
   "cell_type": "code",
   "execution_count": 4,
   "id": "09d3590d-1462-4515-83c7-128cc4937b03",
   "metadata": {},
   "outputs": [
    {
     "data": {
      "text/plain": [
       "<Popen: returncode: None args: ['C:\\\\Users\\\\anand\\\\anaconda3\\\\python.exe', '...>"
      ]
     },
     "execution_count": 4,
     "metadata": {},
     "output_type": "execute_result"
    }
   ],
   "source": [
    "from pymatgen.io.ase import AseAtomsAdaptor\n",
    "from ase.visualize import view\n",
    "\n",
    "# Convert to ASE Atoms object\n",
    "atoms = AseAtomsAdaptor.get_atoms(structure)\n",
    "\n",
    "# Launch interactive ASE GUI\n",
    "view(atoms)\n"
   ]
  },
  {
   "cell_type": "code",
   "execution_count": 22,
   "id": "5406cfde-0b6d-43b6-8708-c1f46b26f755",
   "metadata": {},
   "outputs": [
    {
     "name": "stdin",
     "output_type": "stream",
     "text": [
      "Enter indices to replace with Boron (comma-separated):  34,39,49,28,38\n",
      "Enter indices to replace with Nitrogen (comma-separated):  0,5,15,20,1,11,16\n"
     ]
    },
    {
     "name": "stdout",
     "output_type": "stream",
     "text": [
      "✅ Substitution completed.\n"
     ]
    }
   ],
   "source": [
    "# Manually enter selected atom indices from GUI\n",
    "b_input = input(\"Enter indices to replace with Boron (comma-separated): \")\n",
    "n_input = input(\"Enter indices to replace with Nitrogen (comma-separated): \")\n",
    "\n",
    "b_indices = [int(i.strip()) for i in b_input.split(',') if i.strip().isdigit()]\n",
    "n_indices = [int(i.strip()) for i in n_input.split(',') if i.strip().isdigit()]\n",
    "\n",
    "# Replace atoms\n",
    "for i in b_indices:\n",
    "    atoms[i].symbol = 'B'\n",
    "for i in n_indices:\n",
    "    atoms[i].symbol = 'N'\n",
    "\n",
    "print(\"✅ Substitution completed.\")\n"
   ]
  },
  {
   "cell_type": "code",
   "execution_count": 23,
   "id": "8b42eae0-77e8-4b23-be5d-aaa12096ddee",
   "metadata": {},
   "outputs": [
    {
     "name": "stdout",
     "output_type": "stream",
     "text": [
      "✅ POSCAR_BCN.vasp saved.\n"
     ]
    }
   ],
   "source": [
    "from pymatgen.io.vasp import Poscar\n",
    "from pymatgen.io.ase import AseAtomsAdaptor\n",
    "\n",
    "# Convert back to pymatgen structure\n",
    "final_structure = AseAtomsAdaptor.get_structure(atoms)\n",
    "\n",
    "# Save as POSCAR\n",
    "Poscar(final_structure).write_file(\"POSCAR_BCN.vasp\")\n",
    "print(\"✅ POSCAR_BCN.vasp saved.\")\n"
   ]
  }
 ],
 "metadata": {
  "kernelspec": {
   "display_name": "Python 3 (ipykernel)",
   "language": "python",
   "name": "python3"
  },
  "language_info": {
   "codemirror_mode": {
    "name": "ipython",
    "version": 3
   },
   "file_extension": ".py",
   "mimetype": "text/x-python",
   "name": "python",
   "nbconvert_exporter": "python",
   "pygments_lexer": "ipython3",
   "version": "3.13.5"
  }
 },
 "nbformat": 4,
 "nbformat_minor": 5
}
